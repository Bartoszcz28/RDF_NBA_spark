{
 "cells": [
  {
   "cell_type": "code",
   "execution_count": 23,
   "id": "32047913-a3c5-4c47-acec-e9ea5f6d7ff6",
   "metadata": {},
   "outputs": [],
   "source": [
    "import pyspark\n",
    "from pyspark.sql import SparkSession\n",
    "from pyspark.sql.types import StructType, StructField, StringType, IntegerType, FloatType, DateType\n",
    "from pyspark.sql.functions import regexp_replace\n",
    "from pyspark.sql.functions import col\n",
    "from pyspark.sql import functions as F"
   ]
  },
  {
   "cell_type": "code",
   "execution_count": 2,
   "id": "169120e4-af8a-4074-bb96-8b726d79d5ad",
   "metadata": {},
   "outputs": [],
   "source": [
    "spark = pyspark.sql.SparkSession \\\n",
    "                    .builder \\\n",
    "                    .appName(\"learn\") \\\n",
    "                    .getOrCreate()"
   ]
  },
  {
   "cell_type": "code",
   "execution_count": 3,
   "id": "3062dfeb-a1ae-4e2f-8217-8b2e86d3f212",
   "metadata": {},
   "outputs": [
    {
     "name": "stdout",
     "output_type": "stream",
     "text": [
      "+-------+----------------+------------------+-----+---+---+---+---+---+---+---+---+---+---+---+---+---+---+---+---+---------+\n",
      "|game_id|        teamName|        playerName|   MP| FG|FGA| 3P|3PA| FT|FTA|ORB|DRB|TRB|AST|STL|BLK|TOV| PF|PTS|+/-|isStarter|\n",
      "+-------+----------------+------------------+-----+---+---+---+---+---+---+---+---+---+---+---+---+---+---+---+---+---------+\n",
      "|      1|Sacramento Kings|Corliss Williamson|37:20|  7| 11|  0|  0|  0|  0|  1|  3|  4|  4|  1|  1|  4|  5| 14| -2|        1|\n",
      "|      1|Sacramento Kings|    Mitch Richmond|32:00|  6| 12|  1|  4|  1|  1|  0|  5|  5|  3|  1|  2|  3|  1| 14|-12|        1|\n",
      "|      1|Sacramento Kings|    Olden Polynice|31:34|  0|  4|  0|  0|  1|  4|  2|  5|  7|  3|  1|  0|  4|  3|  1|-12|        1|\n",
      "|      1|Sacramento Kings|Mahmoud Abdul-Rauf|29:27|  7| 13|  1|  2|  2|  2|  0|  2|  2|  5|  1|  1|  2|  2| 17| -7|        1|\n",
      "|      1|Sacramento Kings|       Brian Grant|25:13|  3| 11|  0|  0|  2|  2|  1|  5|  6|  0|  0|  2|  1|  2|  8| -7|        1|\n",
      "|      1|Sacramento Kings|        Tyus Edney|25:29|  4| 11|  0|  2|  6|  8|  0|  1|  1|  0|  4|  0|  4|  1| 14| -3|        0|\n",
      "|      1|Sacramento Kings|     Michael Smith|24:45|  2|  3|  0|  0|  4|  4|  2|  8| 10|  1|  2|  0|  4|  4|  8|-10|        0|\n",
      "|      1|Sacramento Kings|    Lionel Simmons|18:00|  2|  6|  2|  4|  0|  0|  1|  1|  2|  1|  1|  0|  4|  2|  6| -3|        0|\n",
      "|      1|Sacramento Kings|    Duane Causwell|16:26|  1|  1|  0|  0|  1|  2|  1|  2|  3|  1|  0|  2|  1|  4|  3|  1|        0|\n",
      "|      1| Houston Rockets|     Clyde Drexler|42:36|  8| 21|  2|  5|  7| 10|  4|  6| 10|  9| 10|  0|  7|  2| 25| 12|        1|\n",
      "|      1| Houston Rockets|      Kevin Willis|38:40|  3| 12|  0|  1|  2|  2|  1|  4|  5|  0|  0|  0|  2|  3|  8|  8|        1|\n",
      "|      1| Houston Rockets|   Hakeem Olajuwon|38:38|  5| 13|  0|  0|  7| 10|  3| 10| 13|  6|  3|  1|  4|  2| 17| 20|        1|\n",
      "|      1| Houston Rockets|      Matt Maloney|32:35|  3|  8|  1|  5|  1|  2|  1|  1|  2|  1|  1|  0|  1|  1|  8|  6|        1|\n",
      "|      1| Houston Rockets|        Mario Elie|32:21|  7| 12|  3|  6|  3|  4|  4|  0|  4|  3|  2|  0|  0|  4| 20| 15|        1|\n",
      "|      1| Houston Rockets|Othella Harrington|17:39|  4|  6|  0|  0|  0|  0|  3|  3|  6|  1|  1|  0|  2|  2|  8| -5|        0|\n",
      "|      1| Houston Rockets|  Randy Livingston|13:41|  1|  2|  0|  0|  0|  3|  0|  1|  1|  1|  1|  0|  2|  4|  2|  8|        0|\n",
      "|      1| Houston Rockets|      Matt Bullard|13:38|  3|  5|  2|  3|  0|  0|  0|  2|  2|  2|  2|  0|  1|  0|  8|  0|        0|\n",
      "|      1| Houston Rockets|          Sam Mack| 5:24|  0|  2|  0|  1|  0|  0|  1|  0|  1|  1|  0|  0|  2|  0|  0| -1|        0|\n",
      "|      1| Houston Rockets|       Tracy Moore| 3:04|  0|  5|  0|  3|  0|  0|  0|  1|  1|  1|  0|  0|  0|  0|  0| -5|        0|\n",
      "|      1| Houston Rockets|     Emanual Davis| 1:44|  0|  1|  0|  1|  0|  0|  0|  0|  0|  0|  0|  0|  0|  1|  0| -3|        0|\n",
      "+-------+----------------+------------------+-----+---+---+---+---+---+---+---+---+---+---+---+---+---+---+---+---+---------+\n",
      "only showing top 20 rows\n",
      "\n"
     ]
    },
    {
     "data": {
      "text/plain": [
       "[('game_id', 'int'),\n",
       " ('teamName', 'string'),\n",
       " ('playerName', 'string'),\n",
       " ('MP', 'string'),\n",
       " ('FG', 'int'),\n",
       " ('FGA', 'int'),\n",
       " ('3P', 'int'),\n",
       " ('3PA', 'int'),\n",
       " ('FT', 'int'),\n",
       " ('FTA', 'int'),\n",
       " ('ORB', 'int'),\n",
       " ('DRB', 'int'),\n",
       " ('TRB', 'int'),\n",
       " ('AST', 'int'),\n",
       " ('STL', 'int'),\n",
       " ('BLK', 'int'),\n",
       " ('TOV', 'int'),\n",
       " ('PF', 'int'),\n",
       " ('PTS', 'int'),\n",
       " ('+/-', 'int'),\n",
       " ('isStarter', 'int')]"
      ]
     },
     "execution_count": 3,
     "metadata": {},
     "output_type": "execute_result"
    }
   ],
   "source": [
    "# Define schema\n",
    "schema = StructType([\n",
    "    StructField(\"game_id\", IntegerType(), True),\n",
    "    StructField(\"teamName\", StringType(), True),\n",
    "    StructField(\"playerName\", StringType(), True),\n",
    "    StructField(\"MP\", StringType(), True),\n",
    "    StructField(\"FG\", IntegerType(), True),\n",
    "    StructField(\"FGA\", IntegerType(), True),\n",
    "    StructField(\"3P\", IntegerType(), True),\n",
    "    StructField(\"3PA\", IntegerType(), True),\n",
    "    StructField(\"FT\", IntegerType(), True),\n",
    "    StructField(\"FTA\", IntegerType(), True),\n",
    "    StructField(\"ORB\", IntegerType(), True),\n",
    "    StructField(\"DRB\", IntegerType(), True),\n",
    "    StructField(\"TRB\", IntegerType(), True),\n",
    "    StructField(\"AST\", IntegerType(), True),\n",
    "    StructField(\"STL\", IntegerType(), True),\n",
    "    StructField(\"BLK\", IntegerType(), True),\n",
    "    StructField(\"TOV\", IntegerType(), True),\n",
    "    StructField(\"PF\", IntegerType(), True),\n",
    "    StructField(\"PTS\", IntegerType(), True),\n",
    "    StructField(\"+/-\", IntegerType(), True),\n",
    "    StructField(\"isStarter\", IntegerType(), True)\n",
    "])\n",
    "boxscore = spark.read.csv('data/boxscore.csv', header=True, schema=schema)\n",
    "\n",
    "boxscore.show()\n",
    "boxscore.dtypes"
   ]
  },
  {
   "cell_type": "code",
   "execution_count": 4,
   "id": "f53e2e50-7c6c-464e-b51f-37c837612c24",
   "metadata": {},
   "outputs": [
    {
     "name": "stdout",
     "output_type": "stream",
     "text": [
      "+---------------+--------------------+----------+--------------------+----------+----------+-----+-------+----------+---------+-------+\n",
      "|seasonStartYear|            awayTeam|pointsAway|            homeTeam|pointsHome|attendance|notes|startET|  datetime|isRegular|game_id|\n",
      "+---------------+--------------------+----------+--------------------+----------+----------+-----+-------+----------+---------+-------+\n",
      "|           1996|    Sacramento Kings|        85|     Houston Rockets|        96|   16285.0| NULL|   NULL|1996-11-01|        1|      1|\n",
      "|           1996|Los Angeles Clippers|        97|Golden State Warr...|        85|   15593.0| NULL|   NULL|1996-11-01|        1|      2|\n",
      "|           1996|Portland Trail Bl...|       114| Vancouver Grizzlies|        85|   19193.0| NULL|   NULL|1996-11-01|        1|      3|\n",
      "|           1996| Seattle SuperSonics|        91|           Utah Jazz|        99|   19911.0| NULL|   NULL|1996-11-01|        1|      4|\n",
      "|           1996|     New York Knicks|       107|     Toronto Raptors|        99|   28457.0| NULL|   NULL|1996-11-01|        1|      5|\n",
      "|           1996|     Milwaukee Bucks|       111|  Philadelphia 76ers|       103|   20444.0| NULL|   NULL|1996-11-01|        1|      6|\n",
      "|           1996|  Washington Bullets|        96|       Orlando Magic|        92|   17248.0| NULL|   NULL|1996-11-01|        1|      7|\n",
      "|           1996|        Phoenix Suns|        82|  Los Angeles Lakers|        96|   17505.0| NULL|   NULL|1996-11-01|        1|      8|\n",
      "|           1996|   San Antonio Spurs|        78|Minnesota Timberw...|        82|   18109.0| NULL|   NULL|1996-11-01|        1|      9|\n",
      "|           1996|       Atlanta Hawks|        81|          Miami Heat|        94|   15113.0| NULL|   NULL|1996-11-01|        1|     10|\n",
      "|           1996|       Chicago Bulls|       107|      Boston Celtics|        98|   18624.0| NULL|   NULL|1996-11-01|        1|     11|\n",
      "|           1996| Cleveland Cavaliers|        90|     New Jersey Nets|        77|   18316.0| NULL|   NULL|1996-11-01|        1|     12|\n",
      "|           1996|      Indiana Pacers|        89|     Detroit Pistons|        95|   21454.0| NULL|   NULL|1996-11-01|        1|     13|\n",
      "|           1996|    Dallas Mavericks|        92|      Denver Nuggets|        91|   16104.0| NULL|   NULL|1996-11-01|        1|     14|\n",
      "|           1996|     Detroit Pistons|        90|       Atlanta Hawks|        78|   16378.0| NULL|   NULL|1996-11-02|        1|     15|\n",
      "|           1996|     Toronto Raptors|        98|   Charlotte Hornets|       109|   24042.0| NULL|   NULL|1996-11-02|        1|     16|\n",
      "|           1996|  Philadelphia 76ers|        86|       Chicago Bulls|       115|   24040.0| NULL|   NULL|1996-11-02|        1|     17|\n",
      "|           1996|    Sacramento Kings|       107|    Dallas Mavericks|        94|   18042.0| NULL|   NULL|1996-11-02|        1|     18|\n",
      "|           1996|           Utah Jazz|        95|Los Angeles Clippers|        90|   13041.0| NULL|   NULL|1996-11-02|        1|     19|\n",
      "|           1996|      Boston Celtics|       102|     Milwaukee Bucks|       124|   17275.0| NULL|   NULL|1996-11-02|        1|     20|\n",
      "+---------------+--------------------+----------+--------------------+----------+----------+-----+-------+----------+---------+-------+\n",
      "only showing top 20 rows\n",
      "\n"
     ]
    },
    {
     "data": {
      "text/plain": [
       "[('seasonStartYear', 'int'),\n",
       " ('awayTeam', 'string'),\n",
       " ('pointsAway', 'int'),\n",
       " ('homeTeam', 'string'),\n",
       " ('pointsHome', 'int'),\n",
       " ('attendance', 'float'),\n",
       " ('notes', 'string'),\n",
       " ('startET', 'string'),\n",
       " ('datetime', 'date'),\n",
       " ('isRegular', 'int'),\n",
       " ('game_id', 'int')]"
      ]
     },
     "execution_count": 4,
     "metadata": {},
     "output_type": "execute_result"
    }
   ],
   "source": [
    "# Define schema\n",
    "schema = StructType([\n",
    "    StructField(\"seasonStartYear\", IntegerType(), True),\n",
    "    StructField(\"awayTeam\", StringType(), True),\n",
    "    StructField(\"pointsAway\", IntegerType(), True),\n",
    "    StructField(\"homeTeam\", StringType(), True),\n",
    "    StructField(\"pointsHome\", IntegerType(), True),\n",
    "    StructField(\"attendance\", FloatType(), True),\n",
    "    StructField(\"notes\", StringType(), True),\n",
    "    StructField(\"startET\", StringType(), True),\n",
    "    StructField(\"datetime\", DateType(), True),\n",
    "    StructField(\"isRegular\", IntegerType(), True),\n",
    "    StructField(\"game_id\", IntegerType(), True)\n",
    "])\n",
    "\n",
    "games = spark.read.csv('data/games.csv', header=True, schema=schema)\n",
    "\n",
    "games.show()\n",
    "games.dtypes"
   ]
  },
  {
   "cell_type": "code",
   "execution_count": 5,
   "id": "eead8053-8e6d-4054-af2f-5f9580321044",
   "metadata": {},
   "outputs": [
    {
     "name": "stdout",
     "output_type": "stream",
     "text": [
      "+-----------------+---------------+--------+------------------+\n",
      "|       playerName|seasonStartYear|  salary|inflationAdjSalary|\n",
      "+-----------------+---------------+--------+------------------+\n",
      "|   Michael Jordan|           1996|30140000|       $52,258,566|\n",
      "|     Horace Grant|           1996|14857000|       $25,759,971|\n",
      "|    Reggie Miller|           1996|11250000|       $19,505,934|\n",
      "| Shaquille O'Neal|           1996|10714000|       $18,576,585|\n",
      "|      Gary Payton|           1996|10212000|       $17,706,187|\n",
      "|   David Robinson|           1996| 9952000|       $17,255,383|\n",
      "|     Juwan Howard|           1996| 9750000|       $16,905,143|\n",
      "|  Hakeem Olajuwon|           1996| 9655000|       $16,740,426|\n",
      "|  Alonzo Mourning|           1996| 9380000|       $16,263,615|\n",
      "|    Dennis Rodman|           1996| 9000000|       $15,604,747|\n",
      "|  Dikembe Mutombo|           1996| 8013000|       $13,893,427|\n",
      "|     Chris Webber|           1996| 8000000|       $13,870,887|\n",
      "|      Otis Thorpe|           1996| 7000000|       $12,137,026|\n",
      "| Latrell Sprewell|           1996| 7000000|       $12,137,026|\n",
      "|   Elden Campbell|           1996| 7000000|       $12,137,026|\n",
      "|    Kevin Johnson|           1996| 7000000|       $12,137,026|\n",
      "|    Danny Manning|           1996| 6833000|       $11,847,471|\n",
      "|  Derrick Coleman|           1996| 6739000|       $11,684,488|\n",
      "|Anfernee Hardaway|           1996| 6655000|       $11,538,844|\n",
      "|       Dale Davis|           1996| 6508000|       $11,283,966|\n",
      "+-----------------+---------------+--------+------------------+\n",
      "only showing top 20 rows\n",
      "\n"
     ]
    },
    {
     "data": {
      "text/plain": [
       "[('playerName', 'string'),\n",
       " ('seasonStartYear', 'int'),\n",
       " ('salary', 'int'),\n",
       " ('inflationAdjSalary', 'string')]"
      ]
     },
     "execution_count": 5,
     "metadata": {},
     "output_type": "execute_result"
    }
   ],
   "source": [
    "# Define schema\n",
    "schema = StructType([\n",
    "    StructField(\"playerName\", StringType(), True),\n",
    "    StructField(\"seasonStartYear\", IntegerType(), True),\n",
    "    StructField(\"salary\", StringType(), True),\n",
    "    StructField(\"inflationAdjSalary\", StringType(), True)\n",
    "])\n",
    "\n",
    "salaries = spark.read.csv('data/salaries.csv', header=True, schema=schema).withColumn(\"salary\", regexp_replace(\"salary\", \"[\\$,]\", \"\"))\n",
    "\n",
    "salaries = salaries.withColumn(\"salary\", col(\"salary\").cast(IntegerType())) # How to change the data type during import?\n",
    "\n",
    "salaries.show()\n",
    "salaries.dtypes"
   ]
  },
  {
   "cell_type": "code",
   "execution_count": 6,
   "id": "53838a56-a9eb-4344-98bf-15775e7e5fb2",
   "metadata": {},
   "outputs": [
    {
     "name": "stdout",
     "output_type": "stream",
     "text": [
      "+-------+----------------+------------------+-----+---+---+---+---+---+---+---+---+---+---+---+---+---+---+---+---+---------+---------------+----------------+----------+---------------+----------+----------+-----+-------+----------+---------+-------+\n",
      "|game_id|        teamName|        playerName|   MP| FG|FGA| 3P|3PA| FT|FTA|ORB|DRB|TRB|AST|STL|BLK|TOV| PF|PTS|+/-|isStarter|seasonStartYear|        awayTeam|pointsAway|       homeTeam|pointsHome|attendance|notes|startET|  datetime|isRegular|game_id|\n",
      "+-------+----------------+------------------+-----+---+---+---+---+---+---+---+---+---+---+---+---+---+---+---+---+---------+---------------+----------------+----------+---------------+----------+----------+-----+-------+----------+---------+-------+\n",
      "|      1|Sacramento Kings|Corliss Williamson|37:20|  7| 11|  0|  0|  0|  0|  1|  3|  4|  4|  1|  1|  4|  5| 14| -2|        1|           1996|Sacramento Kings|        85|Houston Rockets|        96|   16285.0| NULL|   NULL|1996-11-01|        1|      1|\n",
      "|      1|Sacramento Kings|    Mitch Richmond|32:00|  6| 12|  1|  4|  1|  1|  0|  5|  5|  3|  1|  2|  3|  1| 14|-12|        1|           1996|Sacramento Kings|        85|Houston Rockets|        96|   16285.0| NULL|   NULL|1996-11-01|        1|      1|\n",
      "|      1|Sacramento Kings|    Olden Polynice|31:34|  0|  4|  0|  0|  1|  4|  2|  5|  7|  3|  1|  0|  4|  3|  1|-12|        1|           1996|Sacramento Kings|        85|Houston Rockets|        96|   16285.0| NULL|   NULL|1996-11-01|        1|      1|\n",
      "|      1|Sacramento Kings|Mahmoud Abdul-Rauf|29:27|  7| 13|  1|  2|  2|  2|  0|  2|  2|  5|  1|  1|  2|  2| 17| -7|        1|           1996|Sacramento Kings|        85|Houston Rockets|        96|   16285.0| NULL|   NULL|1996-11-01|        1|      1|\n",
      "|      1|Sacramento Kings|       Brian Grant|25:13|  3| 11|  0|  0|  2|  2|  1|  5|  6|  0|  0|  2|  1|  2|  8| -7|        1|           1996|Sacramento Kings|        85|Houston Rockets|        96|   16285.0| NULL|   NULL|1996-11-01|        1|      1|\n",
      "|      1|Sacramento Kings|        Tyus Edney|25:29|  4| 11|  0|  2|  6|  8|  0|  1|  1|  0|  4|  0|  4|  1| 14| -3|        0|           1996|Sacramento Kings|        85|Houston Rockets|        96|   16285.0| NULL|   NULL|1996-11-01|        1|      1|\n",
      "|      1|Sacramento Kings|     Michael Smith|24:45|  2|  3|  0|  0|  4|  4|  2|  8| 10|  1|  2|  0|  4|  4|  8|-10|        0|           1996|Sacramento Kings|        85|Houston Rockets|        96|   16285.0| NULL|   NULL|1996-11-01|        1|      1|\n",
      "|      1|Sacramento Kings|    Lionel Simmons|18:00|  2|  6|  2|  4|  0|  0|  1|  1|  2|  1|  1|  0|  4|  2|  6| -3|        0|           1996|Sacramento Kings|        85|Houston Rockets|        96|   16285.0| NULL|   NULL|1996-11-01|        1|      1|\n",
      "|      1|Sacramento Kings|    Duane Causwell|16:26|  1|  1|  0|  0|  1|  2|  1|  2|  3|  1|  0|  2|  1|  4|  3|  1|        0|           1996|Sacramento Kings|        85|Houston Rockets|        96|   16285.0| NULL|   NULL|1996-11-01|        1|      1|\n",
      "|      1| Houston Rockets|     Clyde Drexler|42:36|  8| 21|  2|  5|  7| 10|  4|  6| 10|  9| 10|  0|  7|  2| 25| 12|        1|           1996|Sacramento Kings|        85|Houston Rockets|        96|   16285.0| NULL|   NULL|1996-11-01|        1|      1|\n",
      "|      1| Houston Rockets|      Kevin Willis|38:40|  3| 12|  0|  1|  2|  2|  1|  4|  5|  0|  0|  0|  2|  3|  8|  8|        1|           1996|Sacramento Kings|        85|Houston Rockets|        96|   16285.0| NULL|   NULL|1996-11-01|        1|      1|\n",
      "|      1| Houston Rockets|   Hakeem Olajuwon|38:38|  5| 13|  0|  0|  7| 10|  3| 10| 13|  6|  3|  1|  4|  2| 17| 20|        1|           1996|Sacramento Kings|        85|Houston Rockets|        96|   16285.0| NULL|   NULL|1996-11-01|        1|      1|\n",
      "|      1| Houston Rockets|      Matt Maloney|32:35|  3|  8|  1|  5|  1|  2|  1|  1|  2|  1|  1|  0|  1|  1|  8|  6|        1|           1996|Sacramento Kings|        85|Houston Rockets|        96|   16285.0| NULL|   NULL|1996-11-01|        1|      1|\n",
      "|      1| Houston Rockets|        Mario Elie|32:21|  7| 12|  3|  6|  3|  4|  4|  0|  4|  3|  2|  0|  0|  4| 20| 15|        1|           1996|Sacramento Kings|        85|Houston Rockets|        96|   16285.0| NULL|   NULL|1996-11-01|        1|      1|\n",
      "|      1| Houston Rockets|Othella Harrington|17:39|  4|  6|  0|  0|  0|  0|  3|  3|  6|  1|  1|  0|  2|  2|  8| -5|        0|           1996|Sacramento Kings|        85|Houston Rockets|        96|   16285.0| NULL|   NULL|1996-11-01|        1|      1|\n",
      "|      1| Houston Rockets|  Randy Livingston|13:41|  1|  2|  0|  0|  0|  3|  0|  1|  1|  1|  1|  0|  2|  4|  2|  8|        0|           1996|Sacramento Kings|        85|Houston Rockets|        96|   16285.0| NULL|   NULL|1996-11-01|        1|      1|\n",
      "|      1| Houston Rockets|      Matt Bullard|13:38|  3|  5|  2|  3|  0|  0|  0|  2|  2|  2|  2|  0|  1|  0|  8|  0|        0|           1996|Sacramento Kings|        85|Houston Rockets|        96|   16285.0| NULL|   NULL|1996-11-01|        1|      1|\n",
      "|      1| Houston Rockets|          Sam Mack| 5:24|  0|  2|  0|  1|  0|  0|  1|  0|  1|  1|  0|  0|  2|  0|  0| -1|        0|           1996|Sacramento Kings|        85|Houston Rockets|        96|   16285.0| NULL|   NULL|1996-11-01|        1|      1|\n",
      "|      1| Houston Rockets|       Tracy Moore| 3:04|  0|  5|  0|  3|  0|  0|  0|  1|  1|  1|  0|  0|  0|  0|  0| -5|        0|           1996|Sacramento Kings|        85|Houston Rockets|        96|   16285.0| NULL|   NULL|1996-11-01|        1|      1|\n",
      "|      1| Houston Rockets|     Emanual Davis| 1:44|  0|  1|  0|  1|  0|  0|  0|  0|  0|  0|  0|  0|  0|  1|  0| -3|        0|           1996|Sacramento Kings|        85|Houston Rockets|        96|   16285.0| NULL|   NULL|1996-11-01|        1|      1|\n",
      "+-------+----------------+------------------+-----+---+---+---+---+---+---+---+---+---+---+---+---+---+---+---+---+---------+---------------+----------------+----------+---------------+----------+----------+-----+-------+----------+---------+-------+\n",
      "only showing top 20 rows\n",
      "\n"
     ]
    }
   ],
   "source": [
    "boxscore.join(games,games.game_id ==  boxscore.game_id,\"inner\").show()"
   ]
  },
  {
   "cell_type": "code",
   "execution_count": 7,
   "id": "df811bc0-735a-4b0f-b533-8b7bd1424c9f",
   "metadata": {},
   "outputs": [
    {
     "name": "stdout",
     "output_type": "stream",
     "text": [
      "+-------+----------------+------------------+-----+---+---+---+---+---+---+---+---+---+---+---+---+---+---+---+---+---------+---------------+----------------+----------+---------------+----------+----------+-----+-------+----------+---------+-------+\n",
      "|game_id|        teamName|        playerName|   MP| FG|FGA| 3P|3PA| FT|FTA|ORB|DRB|TRB|AST|STL|BLK|TOV| PF|PTS|+/-|isStarter|seasonStartYear|        awayTeam|pointsAway|       homeTeam|pointsHome|attendance|notes|startET|  datetime|isRegular|game_id|\n",
      "+-------+----------------+------------------+-----+---+---+---+---+---+---+---+---+---+---+---+---+---+---+---+---+---------+---------------+----------------+----------+---------------+----------+----------+-----+-------+----------+---------+-------+\n",
      "|      1|Sacramento Kings|Corliss Williamson|37:20|  7| 11|  0|  0|  0|  0|  1|  3|  4|  4|  1|  1|  4|  5| 14| -2|        1|           1996|Sacramento Kings|        85|Houston Rockets|        96|   16285.0| NULL|   NULL|1996-11-01|        1|      1|\n",
      "|      1|Sacramento Kings|    Mitch Richmond|32:00|  6| 12|  1|  4|  1|  1|  0|  5|  5|  3|  1|  2|  3|  1| 14|-12|        1|           1996|Sacramento Kings|        85|Houston Rockets|        96|   16285.0| NULL|   NULL|1996-11-01|        1|      1|\n",
      "|      1|Sacramento Kings|    Olden Polynice|31:34|  0|  4|  0|  0|  1|  4|  2|  5|  7|  3|  1|  0|  4|  3|  1|-12|        1|           1996|Sacramento Kings|        85|Houston Rockets|        96|   16285.0| NULL|   NULL|1996-11-01|        1|      1|\n",
      "|      1|Sacramento Kings|Mahmoud Abdul-Rauf|29:27|  7| 13|  1|  2|  2|  2|  0|  2|  2|  5|  1|  1|  2|  2| 17| -7|        1|           1996|Sacramento Kings|        85|Houston Rockets|        96|   16285.0| NULL|   NULL|1996-11-01|        1|      1|\n",
      "|      1|Sacramento Kings|       Brian Grant|25:13|  3| 11|  0|  0|  2|  2|  1|  5|  6|  0|  0|  2|  1|  2|  8| -7|        1|           1996|Sacramento Kings|        85|Houston Rockets|        96|   16285.0| NULL|   NULL|1996-11-01|        1|      1|\n",
      "|      1|Sacramento Kings|        Tyus Edney|25:29|  4| 11|  0|  2|  6|  8|  0|  1|  1|  0|  4|  0|  4|  1| 14| -3|        0|           1996|Sacramento Kings|        85|Houston Rockets|        96|   16285.0| NULL|   NULL|1996-11-01|        1|      1|\n",
      "|      1|Sacramento Kings|     Michael Smith|24:45|  2|  3|  0|  0|  4|  4|  2|  8| 10|  1|  2|  0|  4|  4|  8|-10|        0|           1996|Sacramento Kings|        85|Houston Rockets|        96|   16285.0| NULL|   NULL|1996-11-01|        1|      1|\n",
      "|      1|Sacramento Kings|    Lionel Simmons|18:00|  2|  6|  2|  4|  0|  0|  1|  1|  2|  1|  1|  0|  4|  2|  6| -3|        0|           1996|Sacramento Kings|        85|Houston Rockets|        96|   16285.0| NULL|   NULL|1996-11-01|        1|      1|\n",
      "|      1|Sacramento Kings|    Duane Causwell|16:26|  1|  1|  0|  0|  1|  2|  1|  2|  3|  1|  0|  2|  1|  4|  3|  1|        0|           1996|Sacramento Kings|        85|Houston Rockets|        96|   16285.0| NULL|   NULL|1996-11-01|        1|      1|\n",
      "|      1| Houston Rockets|     Clyde Drexler|42:36|  8| 21|  2|  5|  7| 10|  4|  6| 10|  9| 10|  0|  7|  2| 25| 12|        1|           1996|Sacramento Kings|        85|Houston Rockets|        96|   16285.0| NULL|   NULL|1996-11-01|        1|      1|\n",
      "|      1| Houston Rockets|      Kevin Willis|38:40|  3| 12|  0|  1|  2|  2|  1|  4|  5|  0|  0|  0|  2|  3|  8|  8|        1|           1996|Sacramento Kings|        85|Houston Rockets|        96|   16285.0| NULL|   NULL|1996-11-01|        1|      1|\n",
      "|      1| Houston Rockets|   Hakeem Olajuwon|38:38|  5| 13|  0|  0|  7| 10|  3| 10| 13|  6|  3|  1|  4|  2| 17| 20|        1|           1996|Sacramento Kings|        85|Houston Rockets|        96|   16285.0| NULL|   NULL|1996-11-01|        1|      1|\n",
      "|      1| Houston Rockets|      Matt Maloney|32:35|  3|  8|  1|  5|  1|  2|  1|  1|  2|  1|  1|  0|  1|  1|  8|  6|        1|           1996|Sacramento Kings|        85|Houston Rockets|        96|   16285.0| NULL|   NULL|1996-11-01|        1|      1|\n",
      "|      1| Houston Rockets|        Mario Elie|32:21|  7| 12|  3|  6|  3|  4|  4|  0|  4|  3|  2|  0|  0|  4| 20| 15|        1|           1996|Sacramento Kings|        85|Houston Rockets|        96|   16285.0| NULL|   NULL|1996-11-01|        1|      1|\n",
      "|      1| Houston Rockets|Othella Harrington|17:39|  4|  6|  0|  0|  0|  0|  3|  3|  6|  1|  1|  0|  2|  2|  8| -5|        0|           1996|Sacramento Kings|        85|Houston Rockets|        96|   16285.0| NULL|   NULL|1996-11-01|        1|      1|\n",
      "|      1| Houston Rockets|  Randy Livingston|13:41|  1|  2|  0|  0|  0|  3|  0|  1|  1|  1|  1|  0|  2|  4|  2|  8|        0|           1996|Sacramento Kings|        85|Houston Rockets|        96|   16285.0| NULL|   NULL|1996-11-01|        1|      1|\n",
      "|      1| Houston Rockets|      Matt Bullard|13:38|  3|  5|  2|  3|  0|  0|  0|  2|  2|  2|  2|  0|  1|  0|  8|  0|        0|           1996|Sacramento Kings|        85|Houston Rockets|        96|   16285.0| NULL|   NULL|1996-11-01|        1|      1|\n",
      "|      1| Houston Rockets|          Sam Mack| 5:24|  0|  2|  0|  1|  0|  0|  1|  0|  1|  1|  0|  0|  2|  0|  0| -1|        0|           1996|Sacramento Kings|        85|Houston Rockets|        96|   16285.0| NULL|   NULL|1996-11-01|        1|      1|\n",
      "|      1| Houston Rockets|       Tracy Moore| 3:04|  0|  5|  0|  3|  0|  0|  0|  1|  1|  1|  0|  0|  0|  0|  0| -5|        0|           1996|Sacramento Kings|        85|Houston Rockets|        96|   16285.0| NULL|   NULL|1996-11-01|        1|      1|\n",
      "|      1| Houston Rockets|     Emanual Davis| 1:44|  0|  1|  0|  1|  0|  0|  0|  0|  0|  0|  0|  0|  0|  1|  0| -3|        0|           1996|Sacramento Kings|        85|Houston Rockets|        96|   16285.0| NULL|   NULL|1996-11-01|        1|      1|\n",
      "+-------+----------------+------------------+-----+---+---+---+---+---+---+---+---+---+---+---+---+---+---+---+---+---------+---------------+----------------+----------+---------------+----------+----------+-----+-------+----------+---------+-------+\n",
      "only showing top 20 rows\n",
      "\n"
     ]
    }
   ],
   "source": [
    "# Inner join\n",
    "main_df = boxscore.join(games,games.game_id ==  boxscore.game_id,\"inner\")\n",
    "main_df.show()"
   ]
  },
  {
   "cell_type": "code",
   "execution_count": 8,
   "id": "6037fb60-b95c-4757-a192-414d12251ea7",
   "metadata": {},
   "outputs": [],
   "source": [
    "main_df = main_df.groupBy('playerName', 'seasonStartYear').sum(\"PTS\")"
   ]
  },
  {
   "cell_type": "code",
   "execution_count": 9,
   "id": "5dcc9cae-c0a5-4a0e-887b-2891a6030f74",
   "metadata": {},
   "outputs": [],
   "source": [
    "main_df_2 = main_df.join(salaries, (salaries.playerName == main_df.playerName) & (salaries.seasonStartYear == main_df.seasonStartYear)).withColumn('moneyPerPoint', salaries['salary'] / main_df['sum(PTS)']).drop(salaries.playerName, salaries.seasonStartYear)"
   ]
  },
  {
   "cell_type": "code",
   "execution_count": 10,
   "id": "d77d35b2-6f43-48b7-93ad-3c06d78afd74",
   "metadata": {},
   "outputs": [
    {
     "name": "stdout",
     "output_type": "stream",
     "text": [
      "+------------------+---------------+--------+--------+------------------+------------------+\n",
      "|        playerName|seasonStartYear|sum(PTS)|  salary|inflationAdjSalary|     moneyPerPoint|\n",
      "+------------------+---------------+--------+--------+------------------+------------------+\n",
      "|     Erick Dampier|           1996|     370| 1184000|        $2,052,891|            3200.0|\n",
      "|   Calbert Cheaney|           1997|    1050| 3600000|        $6,101,719|3428.5714285714284|\n",
      "|    George McCloud|           1997|     513|  272250|          $461,442| 530.7017543859649|\n",
      "|     Muggsy Bogues|           1997|     347| 1800000|        $3,050,859| 5187.319884726225|\n",
      "|Dontonio Wingfield|           1997|       1|  600000|        $1,016,953|          600000.0|\n",
      "|       Todd Fuller|           1996|     304| 1125000|        $1,950,593| 3700.657894736842|\n",
      "|   Calbert Cheaney|           1996|     882| 3200000|        $5,548,354|3628.1179138321995|\n",
      "|    Hersey Hawkins|           1996|    1322| 2604000|        $4,514,973|1969.7428139183055|\n",
      "|   Mookie Blaylock|           1996|    1518| 2800000|        $4,854,810| 1844.532279314888|\n",
      "|       Kurt Thomas|           1996|     113| 1238000|        $2,146,519|10955.752212389381|\n",
      "|      Popeye Jones|           1997|     120| 1886538|        $3,197,534|          15721.15|\n",
      "|   Dikembe Mutombo|           1997|    1133| 9615187|       $16,296,992|  8486.48455428067|\n",
      "|   Andrew DeClercq|           1997|     439| 1200000|        $2,033,906| 2733.485193621868|\n",
      "|  Erick Strickland|           1996|     297|  220000|          $381,449| 740.7407407407408|\n",
      "|     Reggie Miller|           1997|    1897| 9031850|       $15,308,281|4761.1228255139695|\n",
      "|         Bo Outlaw|           1997|     783| 1000000|        $1,694,922| 1277.139208173691|\n",
      "|     Jim McIlvaine|           1997|     260| 3600000|        $6,101,719|13846.153846153846|\n",
      "|    David Robinson|           1997|    1749|12397440|       $21,012,694| 7088.301886792453|\n",
      "|   Anthony Johnson|           1997|     574|  242000|          $410,171|  421.602787456446|\n",
      "|       Carl Thomas|           1996|      21|  247500|          $429,130|11785.714285714286|\n",
      "+------------------+---------------+--------+--------+------------------+------------------+\n",
      "only showing top 20 rows\n",
      "\n"
     ]
    }
   ],
   "source": [
    "main_df_2.show()"
   ]
  },
  {
   "cell_type": "code",
   "execution_count": 11,
   "id": "8a3ffbd0-830e-4371-9638-116d80db6a14",
   "metadata": {},
   "outputs": [
    {
     "name": "stdout",
     "output_type": "stream",
     "text": [
      "+---------------+--------------------+-------------+-----------+-----------------------+------------------+\n",
      "|Kobe_Playername|Kobe_Seasonstartyear|Kobe_Sum(pts)|Kobe_Salary|Kobe_Inflationadjsalary|Kobe_Moneyperpoint|\n",
      "+---------------+--------------------+-------------+-----------+-----------------------+------------------+\n",
      "|    Kobe Bryant|                1996|          613|    1015000|             $1,759,868|1655.7911908646004|\n",
      "|    Kobe Bryant|                1997|         1316|    1167240|             $1,978,380| 886.9604863221884|\n",
      "|    Kobe Bryant|                1998|         1154|    1319000|             $2,198,570|1142.9809358752166|\n",
      "|    Kobe Bryant|                1999|         1950|    9000000|            $14,712,779| 4615.384615384615|\n",
      "|    Kobe Bryant|                2000|         2409|   10130000|            $15,964,503| 4205.064342050643|\n",
      "|    Kobe Bryant|                2001|         2525|   11250000|            $17,171,797| 4455.445544554455|\n",
      "|    Kobe Bryant|                2002|         2846|   12375000|            $18,689,483| 4348.208011243851|\n",
      "|    Kobe Bryant|                2003|         2096|   13500000|            $19,966,771| 6440.839694656489|\n",
      "|    Kobe Bryant|                2004|         1819|   14175000|            $20,302,007| 7792.743265530511|\n",
      "|    Kobe Bryant|                2005|         3027|   15946875|            $22,276,103| 5268.211100099108|\n",
      "|    Kobe Bryant|                2006|         2594|   17718750|            $23,726,532| 6830.666923670008|\n",
      "|    Kobe Bryant|                2007|         2956|   19490625|            $25,416,241| 6593.580852503383|\n",
      "|    Kobe Bryant|                2008|         2896|   21262500|            $26,401,006| 7342.023480662983|\n",
      "|    Kobe Bryant|                2009|         2641|   23034375|            $29,015,070| 8721.838318818629|\n",
      "|    Kobe Bryant|                2010|         2306|   24806250|            $30,921,289|10757.263660017346|\n",
      "|    Kobe Bryant|                2012|         2133|   27849000|            $32,972,493|13056.258790436006|\n",
      "|    Kobe Bryant|                2011|         1976|   25244493|            $30,386,173|12775.553137651821|\n",
      "|    Kobe Bryant|                2013|           83|   30453000|            $35,433,903| 366903.6144578313|\n",
      "|    Kobe Bryant|                2015|         1161|   25000000|            $28,463,195| 21533.16106804479|\n",
      "|    Kobe Bryant|                2014|          782|   23500000|            $26,788,519|30051.150895140665|\n",
      "+---------------+--------------------+-------------+-----------+-----------------------+------------------+\n",
      "\n"
     ]
    }
   ],
   "source": [
    "kobe = main_df_2.filter(main_df_2.playerName == \"Kobe Bryant\")\n",
    "\n",
    "# Adding 'Kobe' prefix to each column name\n",
    "new_column_names = ['Kobe_' + col_name.capitalize() for col_name in kobe.columns]\n",
    "\n",
    "# Creating a new DataFrame with renamed columns\n",
    "kobe = kobe.toDF(*new_column_names)\n",
    "\n",
    "# Displaying the DataFrame with renamed columns\n",
    "kobe.show()\n"
   ]
  },
  {
   "cell_type": "code",
   "execution_count": 12,
   "id": "1baa8783-6fe5-4689-9316-c5f2cd6fd3f3",
   "metadata": {},
   "outputs": [
    {
     "name": "stdout",
     "output_type": "stream",
     "text": [
      "+-----------------+----------------------+---------------+-------------+-------------------------+--------------------+\n",
      "|Jordan_Playername|Jordan_Seasonstartyear|Jordan_Sum(pts)|Jordan_Salary|Jordan_Inflationadjsalary|Jordan_Moneyperpoint|\n",
      "+-----------------+----------------------+---------------+-------------+-------------------------+--------------------+\n",
      "|   Michael Jordan|                  1997|           3037|     33140000|              $56,169,715|    10912.0842937109|\n",
      "|   Michael Jordan|                  1996|           3021|     30140000|              $52,258,566|   9976.828864614366|\n",
      "|   Michael Jordan|                  2001|           1375|      1000000|               $1,526,382|   727.2727272727273|\n",
      "|   Michael Jordan|                  2002|           1640|      1030000|               $1,555,569|   628.0487804878048|\n",
      "+-----------------+----------------------+---------------+-------------+-------------------------+--------------------+\n",
      "\n"
     ]
    }
   ],
   "source": [
    "jordan = main_df_2.filter(main_df_2.playerName == \"Michael Jordan\")\n",
    "\n",
    "# Adding 'Jordan' prefix to each column name\n",
    "new_column_names = ['Jordan_' + col_name.capitalize() for col_name in jordan.columns]\n",
    "\n",
    "# Creating a new DataFrame with renamed columns\n",
    "jordan = jordan.toDF(*new_column_names)\n",
    "\n",
    "# Displaying the DataFrame with renamed columns\n",
    "jordan.show()"
   ]
  },
  {
   "cell_type": "code",
   "execution_count": 13,
   "id": "440af8dd-b6e9-4258-83c3-b8e5684e1d4f",
   "metadata": {},
   "outputs": [],
   "source": [
    "jordan_kobe = jordan.join(kobe, kobe.Kobe_Seasonstartyear == jordan.Jordan_Seasonstartyear, 'full')"
   ]
  },
  {
   "cell_type": "code",
   "execution_count": 14,
   "id": "cc4f08a9-2bb7-4ba3-be70-25031a368d9c",
   "metadata": {},
   "outputs": [
    {
     "name": "stdout",
     "output_type": "stream",
     "text": [
      "+-----------------+----------------------+---------------+-------------+-------------------------+--------------------+---------------+--------------------+-------------+-----------+-----------------------+------------------+\n",
      "|Jordan_Playername|Jordan_Seasonstartyear|Jordan_Sum(pts)|Jordan_Salary|Jordan_Inflationadjsalary|Jordan_Moneyperpoint|Kobe_Playername|Kobe_Seasonstartyear|Kobe_Sum(pts)|Kobe_Salary|Kobe_Inflationadjsalary|Kobe_Moneyperpoint|\n",
      "+-----------------+----------------------+---------------+-------------+-------------------------+--------------------+---------------+--------------------+-------------+-----------+-----------------------+------------------+\n",
      "|   Michael Jordan|                  1996|           3021|     30140000|              $52,258,566|   9976.828864614366|    Kobe Bryant|                1996|          613|    1015000|             $1,759,868|1655.7911908646004|\n",
      "|   Michael Jordan|                  1997|           3037|     33140000|              $56,169,715|    10912.0842937109|    Kobe Bryant|                1997|         1316|    1167240|             $1,978,380| 886.9604863221884|\n",
      "|             NULL|                  NULL|           NULL|         NULL|                     NULL|                NULL|    Kobe Bryant|                1998|         1154|    1319000|             $2,198,570|1142.9809358752166|\n",
      "|             NULL|                  NULL|           NULL|         NULL|                     NULL|                NULL|    Kobe Bryant|                1999|         1950|    9000000|            $14,712,779| 4615.384615384615|\n",
      "|             NULL|                  NULL|           NULL|         NULL|                     NULL|                NULL|    Kobe Bryant|                2000|         2409|   10130000|            $15,964,503| 4205.064342050643|\n",
      "|   Michael Jordan|                  2001|           1375|      1000000|               $1,526,382|   727.2727272727273|    Kobe Bryant|                2001|         2525|   11250000|            $17,171,797| 4455.445544554455|\n",
      "|   Michael Jordan|                  2002|           1640|      1030000|               $1,555,569|   628.0487804878048|    Kobe Bryant|                2002|         2846|   12375000|            $18,689,483| 4348.208011243851|\n",
      "|             NULL|                  NULL|           NULL|         NULL|                     NULL|                NULL|    Kobe Bryant|                2003|         2096|   13500000|            $19,966,771| 6440.839694656489|\n",
      "|             NULL|                  NULL|           NULL|         NULL|                     NULL|                NULL|    Kobe Bryant|                2004|         1819|   14175000|            $20,302,007| 7792.743265530511|\n",
      "|             NULL|                  NULL|           NULL|         NULL|                     NULL|                NULL|    Kobe Bryant|                2005|         3027|   15946875|            $22,276,103| 5268.211100099108|\n",
      "|             NULL|                  NULL|           NULL|         NULL|                     NULL|                NULL|    Kobe Bryant|                2006|         2594|   17718750|            $23,726,532| 6830.666923670008|\n",
      "|             NULL|                  NULL|           NULL|         NULL|                     NULL|                NULL|    Kobe Bryant|                2007|         2956|   19490625|            $25,416,241| 6593.580852503383|\n",
      "|             NULL|                  NULL|           NULL|         NULL|                     NULL|                NULL|    Kobe Bryant|                2008|         2896|   21262500|            $26,401,006| 7342.023480662983|\n",
      "|             NULL|                  NULL|           NULL|         NULL|                     NULL|                NULL|    Kobe Bryant|                2009|         2641|   23034375|            $29,015,070| 8721.838318818629|\n",
      "|             NULL|                  NULL|           NULL|         NULL|                     NULL|                NULL|    Kobe Bryant|                2010|         2306|   24806250|            $30,921,289|10757.263660017346|\n",
      "|             NULL|                  NULL|           NULL|         NULL|                     NULL|                NULL|    Kobe Bryant|                2011|         1976|   25244493|            $30,386,173|12775.553137651821|\n",
      "|             NULL|                  NULL|           NULL|         NULL|                     NULL|                NULL|    Kobe Bryant|                2012|         2133|   27849000|            $32,972,493|13056.258790436006|\n",
      "|             NULL|                  NULL|           NULL|         NULL|                     NULL|                NULL|    Kobe Bryant|                2013|           83|   30453000|            $35,433,903| 366903.6144578313|\n",
      "|             NULL|                  NULL|           NULL|         NULL|                     NULL|                NULL|    Kobe Bryant|                2014|          782|   23500000|            $26,788,519|30051.150895140665|\n",
      "|             NULL|                  NULL|           NULL|         NULL|                     NULL|                NULL|    Kobe Bryant|                2015|         1161|   25000000|            $28,463,195| 21533.16106804479|\n",
      "+-----------------+----------------------+---------------+-------------+-------------------------+--------------------+---------------+--------------------+-------------+-----------+-----------------------+------------------+\n",
      "\n"
     ]
    }
   ],
   "source": [
    "# Final table\n",
    "jordan_kobe.show()"
   ]
  },
  {
   "cell_type": "markdown",
   "id": "8a69ca01-8de6-456f-9868-3bda286f6250",
   "metadata": {},
   "source": [
    "### Additional task"
   ]
  },
  {
   "cell_type": "code",
   "execution_count": 24,
   "id": "b10a33c1",
   "metadata": {},
   "outputs": [
    {
     "name": "stdout",
     "output_type": "stream",
     "text": [
      "+---------------+------------------+\n",
      "|seasonStartYear|               avg|\n",
      "+---------------+------------------+\n",
      "|           2003| 24581.95619809916|\n",
      "|           2007|25932.579252955748|\n",
      "|           2018| 22730.85485667967|\n",
      "|           2015| 17512.04879105901|\n",
      "|           2006|30465.632836873545|\n",
      "|           2013|19668.641864608886|\n",
      "|           1997|12776.065199921679|\n",
      "|           2014| 29310.61763105012|\n",
      "|           2019|26203.660233393442|\n",
      "|           2004| 21225.78826784238|\n",
      "|           1996| 6854.046263437064|\n",
      "|           1998|25101.501455623045|\n",
      "|           2012|23037.356103561582|\n",
      "|           2009| 20970.98019990714|\n",
      "|           2016|25738.542083622688|\n",
      "|           2001| 27198.03527147267|\n",
      "|           2005| 44238.74676752557|\n",
      "|           2000|17386.857486249744|\n",
      "|           2010| 27940.24933801075|\n",
      "|           2011| 16584.57516845704|\n",
      "+---------------+------------------+\n",
      "only showing top 20 rows\n",
      "\n"
     ]
    }
   ],
   "source": [
    "mean_all = main_df_2.groupBy('seasonStartYear').mean(\"moneyPerPoint\").select(\"seasonStartYear\", F.col(\"avg(moneyPerPoint)\").alias(\"avg\"))\n",
    "mean_all.show()"
   ]
  },
  {
   "cell_type": "code",
   "execution_count": 30,
   "id": "6ac7e5dd-4a84-4b12-9ba3-b35022891968",
   "metadata": {},
   "outputs": [
    {
     "name": "stdout",
     "output_type": "stream",
     "text": [
      "+--------------------+--------+--------+------------------+------------------+---------------+------------------+\n",
      "|          playerName|sum(PTS)|  salary|inflationAdjSalary|     moneyPerPoint|seasonStartYear|               avg|\n",
      "+--------------------+--------+--------+------------------+------------------+---------------+------------------+\n",
      "|     Calbert Cheaney|    1050| 3600000|        $6,101,719|3428.5714285714284|           1997|12776.065199921679|\n",
      "|      George McCloud|     513|  272250|          $461,442| 530.7017543859649|           1997|12776.065199921679|\n",
      "|       Muggsy Bogues|     347| 1800000|        $3,050,859| 5187.319884726225|           1997|12776.065199921679|\n",
      "|  Dontonio Wingfield|       1|  600000|        $1,016,953|          600000.0|           1997|12776.065199921679|\n",
      "|        Popeye Jones|     120| 1886538|        $3,197,534|          15721.15|           1997|12776.065199921679|\n",
      "|     Dikembe Mutombo|    1133| 9615187|       $16,296,992|  8486.48455428067|           1997|12776.065199921679|\n",
      "|     Andrew DeClercq|     439| 1200000|        $2,033,906| 2733.485193621868|           1997|12776.065199921679|\n",
      "|       Reggie Miller|    1897| 9031850|       $15,308,281|4761.1228255139695|           1997|12776.065199921679|\n",
      "|           Bo Outlaw|     783| 1000000|        $1,694,922| 1277.139208173691|           1997|12776.065199921679|\n",
      "|       Jim McIlvaine|     260| 3600000|        $6,101,719|13846.153846153846|           1997|12776.065199921679|\n",
      "|      David Robinson|    1749|12397440|       $21,012,694| 7088.301886792453|           1997|12776.065199921679|\n",
      "|     Anthony Johnson|     574|  242000|          $410,171|  421.602787456446|           1997|12776.065199921679|\n",
      "|       Erick Dampier|     971| 1478880|        $2,506,586| 1523.048403707518|           1997|12776.065199921679|\n",
      "|       Bobby Jackson|     790|  694920|        $1,177,835| 879.6455696202531|           1997|12776.065199921679|\n",
      "|         Ben Wallace|     205|  326700|          $553,731| 1593.658536585366|           1997|12776.065199921679|\n",
      "|      Lindsey Hunter|     862| 1750000|        $2,966,113|2030.1624129930394|           1997|12776.065199921679|\n",
      "|       Bryant Reeves|    1207| 1915680|        $3,246,928|1587.1416735708367|           1997|12776.065199921679|\n",
      "|          Steve Nash|     713| 1053360|        $1,785,363|1477.3632538569425|           1997|12776.065199921679|\n",
      "|          Loy Vaught|      75| 3350000|        $5,677,988|44666.666666666664|           1997|12776.065199921679|\n",
      "|           Dee Brown|     658| 3500000|        $5,932,227| 5319.148936170212|           1997|12776.065199921679|\n",
      "|       Herb Williams|      37|  766667|        $1,299,440| 20720.72972972973|           1997|12776.065199921679|\n",
      "|    Donyell Marshall|    1123| 3990000|        $6,762,738|3552.9830810329477|           1997|12776.065199921679|\n",
      "|    Etdrick Bohannon|       0|  272250|          $461,442|              NULL|           1997|12776.065199921679|\n",
      "|       Erick Dampier|     370| 1184000|        $2,052,891|            3200.0|           1996| 6854.046263437064|\n",
      "|         Todd Fuller|     304| 1125000|        $1,950,593| 3700.657894736842|           1996| 6854.046263437064|\n",
      "|     Calbert Cheaney|     882| 3200000|        $5,548,354|3628.1179138321995|           1996| 6854.046263437064|\n",
      "|      Hersey Hawkins|    1322| 2604000|        $4,514,973|1969.7428139183055|           1996| 6854.046263437064|\n",
      "|     Mookie Blaylock|    1518| 2800000|        $4,854,810| 1844.532279314888|           1996| 6854.046263437064|\n",
      "|         Kurt Thomas|     113| 1238000|        $2,146,519|10955.752212389381|           1996| 6854.046263437064|\n",
      "|    Erick Strickland|     297|  220000|          $381,449| 740.7407407407408|           1996| 6854.046263437064|\n",
      "|         Carl Thomas|      21|  247500|          $429,130|11785.714285714286|           1996| 6854.046263437064|\n",
      "|      Keith Jennings|    NULL|  247500|          $429,130|              NULL|           1996| 6854.046263437064|\n",
      "|        Popeye Jones|     616| 1581000|        $2,741,234|2566.5584415584417|           1996| 6854.046263437064|\n",
      "|         Loren Meyer|     266|  639000|        $1,107,937|2402.2556390977443|           1996| 6854.046263437064|\n",
      "|     Jermaine O'Neal|     185|  827000|        $1,433,902|  4470.27027027027|           1996| 6854.046263437064|\n",
      "|         Malik Sealy|    1115| 1732000|        $3,003,047|1553.3632286995517|           1996| 6854.046263437064|\n",
      "|    Latrell Sprewell|    1938| 7000000|       $12,137,026| 3611.971104231166|           1996| 6854.046263437064|\n",
      "|       Chris Gatling|     891| 3047000|        $5,283,074| 3419.753086419753|           1996| 6854.046263437064|\n",
      "|           Matt Fish|       2|  247500|          $429,130|          123750.0|           1996| 6854.046263437064|\n",
      "|        Jud Buechler|     172|  500000|          $866,930|2906.9767441860463|           1996| 6854.046263437064|\n",
      "|          Craig Ehlo|     214|  360000|          $624,189|1682.2429906542056|           1996| 6854.046263437064|\n",
      "|        Donald Royal|     218| 1700000|        $2,947,563| 7798.165137614679|           1996| 6854.046263437064|\n",
      "|      Felton Spencer|     372| 2694000|        $4,671,021| 7241.935483870968|           1996| 6854.046263437064|\n",
      "|          Tim Legler|      45|  450000|          $780,237|           10000.0|           1996| 6854.046263437064|\n",
      "|     Derrick Coleman|    1032| 6739000|       $11,684,488| 6530.038759689923|           1996| 6854.046263437064|\n",
      "|Clarence Weathers...|    1003| 3300000|        $5,721,740|3290.1296111665006|           1996| 6854.046263437064|\n",
      "|         Eddie Jones|    1475| 1800000|        $3,120,949|1220.3389830508474|           1996| 6854.046263437064|\n",
      "|            Rick Fox|    1174| 1750000|        $3,034,256|1490.6303236797273|           1996| 6854.046263437064|\n",
      "|      Antonio Harvey|      15|  247500|          $429,130|           16500.0|           1996| 6854.046263437064|\n",
      "|        Chris Childs|     709| 2600000|        $4,508,038|3667.1368124118476|           1996| 6854.046263437064|\n",
      "+--------------------+--------+--------+------------------+------------------+---------------+------------------+\n",
      "only showing top 50 rows\n",
      "\n"
     ]
    }
   ],
   "source": [
    "main_df_3 = main_df_2.join(mean_all, mean_all.seasonStartYear == main_df_2.seasonStartYear, 'left').drop(mean_all.seasonStartYear)\n",
    "main_df_3.show(50)"
   ]
  },
  {
   "cell_type": "code",
   "execution_count": 29,
   "id": "07036c60-5107-423f-9f48-5ec786a0f39a",
   "metadata": {},
   "outputs": [
    {
     "name": "stdout",
     "output_type": "stream",
     "text": [
      "+------------------+--------+--------+------------------+------------------+---------------+------------------+----------+\n",
      "|        playerName|sum(PTS)|  salary|inflationAdjSalary|     moneyPerPoint|seasonStartYear|               avg|above_mean|\n",
      "+------------------+--------+--------+------------------+------------------+---------------+------------------+----------+\n",
      "|   Calbert Cheaney|    1050| 3600000|        $6,101,719|3428.5714285714284|           1997|12776.065199921679|     false|\n",
      "|    George McCloud|     513|  272250|          $461,442| 530.7017543859649|           1997|12776.065199921679|     false|\n",
      "|     Muggsy Bogues|     347| 1800000|        $3,050,859| 5187.319884726225|           1997|12776.065199921679|     false|\n",
      "|Dontonio Wingfield|       1|  600000|        $1,016,953|          600000.0|           1997|12776.065199921679|      true|\n",
      "|      Popeye Jones|     120| 1886538|        $3,197,534|          15721.15|           1997|12776.065199921679|      true|\n",
      "|   Dikembe Mutombo|    1133| 9615187|       $16,296,992|  8486.48455428067|           1997|12776.065199921679|     false|\n",
      "|   Andrew DeClercq|     439| 1200000|        $2,033,906| 2733.485193621868|           1997|12776.065199921679|     false|\n",
      "|     Reggie Miller|    1897| 9031850|       $15,308,281|4761.1228255139695|           1997|12776.065199921679|     false|\n",
      "|         Bo Outlaw|     783| 1000000|        $1,694,922| 1277.139208173691|           1997|12776.065199921679|     false|\n",
      "|     Jim McIlvaine|     260| 3600000|        $6,101,719|13846.153846153846|           1997|12776.065199921679|      true|\n",
      "|    David Robinson|    1749|12397440|       $21,012,694| 7088.301886792453|           1997|12776.065199921679|     false|\n",
      "|   Anthony Johnson|     574|  242000|          $410,171|  421.602787456446|           1997|12776.065199921679|     false|\n",
      "|     Erick Dampier|     370| 1184000|        $2,052,891|            3200.0|           1996| 6854.046263437064|     false|\n",
      "|       Todd Fuller|     304| 1125000|        $1,950,593| 3700.657894736842|           1996| 6854.046263437064|     false|\n",
      "|   Calbert Cheaney|     882| 3200000|        $5,548,354|3628.1179138321995|           1996| 6854.046263437064|     false|\n",
      "|    Hersey Hawkins|    1322| 2604000|        $4,514,973|1969.7428139183055|           1996| 6854.046263437064|     false|\n",
      "|   Mookie Blaylock|    1518| 2800000|        $4,854,810| 1844.532279314888|           1996| 6854.046263437064|     false|\n",
      "|       Kurt Thomas|     113| 1238000|        $2,146,519|10955.752212389381|           1996| 6854.046263437064|      true|\n",
      "|  Erick Strickland|     297|  220000|          $381,449| 740.7407407407408|           1996| 6854.046263437064|     false|\n",
      "|       Carl Thomas|      21|  247500|          $429,130|11785.714285714286|           1996| 6854.046263437064|      true|\n",
      "+------------------+--------+--------+------------------+------------------+---------------+------------------+----------+\n",
      "only showing top 20 rows\n",
      "\n"
     ]
    }
   ],
   "source": [
    "main_df_3.withColumn('above_mean', main_df_3.avg < main_df_3.moneyPerPoint).show()"
   ]
  }
 ],
 "metadata": {
  "kernelspec": {
   "display_name": "Python 3 (ipykernel)",
   "language": "python",
   "name": "python3"
  },
  "language_info": {
   "codemirror_mode": {
    "name": "ipython",
    "version": 3
   },
   "file_extension": ".py",
   "mimetype": "text/x-python",
   "name": "python",
   "nbconvert_exporter": "python",
   "pygments_lexer": "ipython3",
   "version": "3.11.6"
  }
 },
 "nbformat": 4,
 "nbformat_minor": 5
}
